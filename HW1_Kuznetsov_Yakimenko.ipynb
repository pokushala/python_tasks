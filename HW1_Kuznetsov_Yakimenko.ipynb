{
 "cells": [
  {
   "cell_type": "markdown",
   "metadata": {},
   "source": [
    "# Майнор \"Прикладные задачи анализа данных\"\n",
    "## Домашнее задание 1  до 23:59 17.02.2018\n",
    "**Участники:** Кузнецов Евгений (ИАД3), Якименко Александра (ИАД3).\n",
    "\n",
    "**Тема:** Генератор описания прогноза погоды на следующую неделю в городе Калининград."
   ]
  },
  {
   "cell_type": "markdown",
   "metadata": {},
   "source": [
    "## 1. Сбор данных [3 балла]"
   ]
  },
  {
   "cell_type": "markdown",
   "metadata": {},
   "source": [
    "Выбираем город России - Калининград\n",
    "\n",
    "Открываем для него прогноз погоды на 10 дней вперед  на сайте gismeteo.ru - https://www.gismeteo.ru/weather-kaliningrad-4225/10-days/ \n",
    "\n",
    "Чтобы извлечь нужные данные с сайта, будем использовать http.client чтобы получить html-страницу и библиотеку bs4 - парсер для разбора DOM-модели html/xml."
   ]
  },
  {
   "cell_type": "code",
   "execution_count": 1,
   "metadata": {
    "collapsed": true
   },
   "outputs": [],
   "source": [
    "import http.client\n",
    "from bs4 import BeautifulSoup # Для обработки HTML"
   ]
  },
  {
   "cell_type": "code",
   "execution_count": 2,
   "metadata": {
    "collapsed": true
   },
   "outputs": [],
   "source": [
    "conn = http.client.HTTPSConnection(\"www.gismeteo.ru\") # создаем socket для подключения к gismeteo.ru\n",
    "conn.request( \"GET\", \"/weather-kaliningrad-4225/10-days/\") # отправляем GET-запрос \n",
    "r = conn.getresponse() # получаем http ответ\n",
    "field = r.read() # из ответа получаем html-страницу\n",
    "conn.close() # закрываем соединение"
   ]
  },
  {
   "cell_type": "markdown",
   "metadata": {},
   "source": [
    "Заходим на сайт и смотрим глазками на разметку таблички с погодой. Видим что нужная информация находится в классе widget_row в 0, 2, 3 и 4 рядах.\n",
    "0 ряд - дата (день недели и число)\n",
    "2 ряд - максимальная и минимальная температура\n",
    "3 ряд - скорость ветра\n",
    "4 ряд - уровень осадков\n",
    "\n",
    "И так как месяц пишется только в 1 день или когда месяц меняется я напишу переделывание месяца в чиселки ручками (потому что по-другому как делать не доехало до меня). "
   ]
  },
  {
   "cell_type": "code",
   "execution_count": 3,
   "metadata": {
    "collapsed": true
   },
   "outputs": [],
   "source": [
    "#предположим, что остальные месяцы на сайте называются так\n",
    "d = {'янв':'01', 'фев':'02', 'мар':'03', 'апр':'04', 'май':'05', 'ин':'06', 'ил':'07', 'авг':'08', 'сен':'09', 'окт':'10', 'ноя':'11', 'дек':'12'}"
   ]
  },
  {
   "cell_type": "code",
   "execution_count": 4,
   "metadata": {
    "collapsed": true
   },
   "outputs": [],
   "source": [
    "import re # для удаления чисел из строки\n",
    "\n",
    "soup = BeautifulSoup(field, \"lxml\") # создаем объект BeautifulSoup из полученного документа\n",
    "rows = soup.find_all(\"div\", class_=\"widget__row\") # ищем в документе все элементы div с атрибутом класса widget__row\n",
    "dates=[]\n",
    "max_temp=[]\n",
    "min_temp=[]\n",
    "wind=[]\n",
    "rainfall=[]\n",
    "\n",
    "title = soup.find_all('div', class_='pageinfo_title')[0].contents[0].string\n",
    "\n",
    "# проходим по всем полям div с атрибутом класса w_date\n",
    "# находим атрибуты класса w_date__day это дни недели и атрибуты класса w_date__date это числа\n",
    "# записываем в список dates, убирая пробелы и переносы строки\n",
    "\n",
    "for date in rows[0].find_all(\"div\", class_=\"w_date\"):\n",
    "    curr_date = (date.find(\"span\", class_=\"w_date__date\")).string.strip()\n",
    "    # преобразуем дату в нужный вид\n",
    "    curr_month = re.sub(r\"\\d+\", \"\", curr_date).strip()\n",
    "    if curr_month in d.keys():\n",
    "        month = curr_month\n",
    "        curr_date = curr_date.replace(curr_month,'').strip()\n",
    "    curr_date += '.'+d[month]\n",
    "    # и записываем\n",
    "    dates.append( curr_date\n",
    "        + \" (\"\n",
    "        +  (date.find(\"div\", class_=\"w_date__day\")).string.strip().lower()\n",
    "        + \")\" )\n",
    "        \n",
    "\n",
    "# достаем значения максимальных температур (по полю div с атрибутом класса maxt)\n",
    "# записываем в список max_temp, также убирая все лишнее\n",
    "for max_t in rows[2].find_all(\"div\", class_=\"maxt\"):\n",
    "    max_temp.append(max_t.string.strip().replace('−','-'))\n",
    "\n",
    "# аналогично для минимальной температуры\n",
    "for min_t in rows[2].find_all(\"div\", class_=\"mint\"):\n",
    "    min_temp.append(min_t.string.strip().replace('−','-'))\n",
    "\n",
    "# из третьего ряда записываем скорость ветра по классу w_wind__warning\n",
    "for winds in rows[3].find_all(\"div\", class_=\"w_wind__warning\"):\n",
    "    wind.append(winds.contents[1].strip())\n",
    "\n",
    "# из четвертого извлекаем уровень осадков по классу  w_precipitation_value\n",
    "for rainf in rows[4].find_all(\"div\", class_=\"w_precipitation__value\"):\n",
    "    rainfall.append(rainf.contents[0].strip().replace(',','.'))"
   ]
  },
  {
   "cell_type": "markdown",
   "metadata": {},
   "source": [
    "Проверим результаты:"
   ]
  },
  {
   "cell_type": "code",
   "execution_count": 5,
   "metadata": {},
   "outputs": [
    {
     "name": "stdout",
     "output_type": "stream",
     "text": [
      "Погода в Калининграде на 10 дней\n",
      "['17.02 (сб)', '18.02 (вс)', '19.02 (пн)', '20.02 (вт)', '21.02 (ср)', '22.02 (чт)', '23.02 (пт)', '24.02 (сб)', '25.02 (вс)', '26.02 (пн)']\n",
      "['-2', '-3', '-4', '-8', '-10', '-12', '-11', '-13', '-14', '-17']\n",
      "['+3', '+2', '+2', '0', '-5', '-6', '-6', '-1', '-8', '-10']\n",
      "['10', '7', '7', '9', '11', '12', '13', '13', '12', '9']\n",
      "['3.9', '0.9', '1.9', '0', '0.1', '0', '0', '0.6', '0', '0']\n"
     ]
    }
   ],
   "source": [
    "print(title)\n",
    "print(dates)\n",
    "print(min_temp)\n",
    "print(max_temp)\n",
    "print(wind)\n",
    "print(rainfall)"
   ]
  },
  {
   "cell_type": "markdown",
   "metadata": {},
   "source": [
    "Осталось записать извлеченную информацию в таблицу\n",
    "Библтотека csv для записи в формате csv и библиотека codecs для возможности использования кириллицы"
   ]
  },
  {
   "cell_type": "code",
   "execution_count": 6,
   "metadata": {
    "collapsed": true
   },
   "outputs": [],
   "source": [
    "import csv\n",
    "import codecs"
   ]
  },
  {
   "cell_type": "code",
   "execution_count": 7,
   "metadata": {
    "collapsed": true
   },
   "outputs": [],
   "source": [
    "# создаем файл в кодировке utf8 и строим табличку как указано в задании\n",
    "with codecs.open(\"weather.csv\", \"w\", encoding= \"utf8\") as f:\n",
    "    data = [[title] + dates,\n",
    "            [\"минимальная температура\"] + min_temp,\n",
    "            [\"максимальная температура\"] + max_temp,\n",
    "            [\"скорость ветра\"] + wind,\n",
    "            [\"уровень осадков\"] + rainfall]\n",
    "    wr = csv.writer( f, quoting = csv.QUOTE_ALL) # разделяем все, что передали writer\n",
    "    \n",
    "    wr.writerows(data)   "
   ]
  },
  {
   "cell_type": "code",
   "execution_count": 8,
   "metadata": {
    "collapsed": true
   },
   "outputs": [],
   "source": [
    "import pandas as pd"
   ]
  },
  {
   "cell_type": "code",
   "execution_count": 9,
   "metadata": {
    "collapsed": true
   },
   "outputs": [],
   "source": [
    "df = pd.read_csv('weather.csv',index_col=0,encoding='utf8', dtype=str)\n",
    "df_style = df.style.set_caption(df.index.name).set_table_styles([\n",
    "    dict(selector=\"caption\", props=[\n",
    "        (\"font-size\", \"12pt\"),\n",
    "        ('font-weight', 'bold'),\n",
    "        ('text-align','center')\n",
    "    ])])\n",
    "df.index.name = None"
   ]
  },
  {
   "cell_type": "markdown",
   "metadata": {},
   "source": [
    "Получили искомую таблицу"
   ]
  },
  {
   "cell_type": "code",
   "execution_count": 10,
   "metadata": {},
   "outputs": [
    {
     "data": {
      "text/html": [
       "<style  type=\"text/css\" >\n",
       "    #T_bd485cfe_13d2_11e8_a5e1_681729d2fc7f caption {\n",
       "          font-size: 12pt;\n",
       "          font-weight: bold;\n",
       "          text-align: center;\n",
       "    }</style>  \n",
       "<table id=\"T_bd485cfe_13d2_11e8_a5e1_681729d2fc7f\" ><caption>Погода в Калининграде на 10 дней</caption> \n",
       "<thead>    <tr> \n",
       "        <th class=\"blank level0\" ></th> \n",
       "        <th class=\"col_heading level0 col0\" >17.02 (сб)</th> \n",
       "        <th class=\"col_heading level0 col1\" >18.02 (вс)</th> \n",
       "        <th class=\"col_heading level0 col2\" >19.02 (пн)</th> \n",
       "        <th class=\"col_heading level0 col3\" >20.02 (вт)</th> \n",
       "        <th class=\"col_heading level0 col4\" >21.02 (ср)</th> \n",
       "        <th class=\"col_heading level0 col5\" >22.02 (чт)</th> \n",
       "        <th class=\"col_heading level0 col6\" >23.02 (пт)</th> \n",
       "        <th class=\"col_heading level0 col7\" >24.02 (сб)</th> \n",
       "        <th class=\"col_heading level0 col8\" >25.02 (вс)</th> \n",
       "        <th class=\"col_heading level0 col9\" >26.02 (пн)</th> \n",
       "    </tr></thead> \n",
       "<tbody>    <tr> \n",
       "        <th id=\"T_bd485cfe_13d2_11e8_a5e1_681729d2fc7flevel0_row0\" class=\"row_heading level0 row0\" >минимальная температура</th> \n",
       "        <td id=\"T_bd485cfe_13d2_11e8_a5e1_681729d2fc7frow0_col0\" class=\"data row0 col0\" >-2</td> \n",
       "        <td id=\"T_bd485cfe_13d2_11e8_a5e1_681729d2fc7frow0_col1\" class=\"data row0 col1\" >-3</td> \n",
       "        <td id=\"T_bd485cfe_13d2_11e8_a5e1_681729d2fc7frow0_col2\" class=\"data row0 col2\" >-4</td> \n",
       "        <td id=\"T_bd485cfe_13d2_11e8_a5e1_681729d2fc7frow0_col3\" class=\"data row0 col3\" >-8</td> \n",
       "        <td id=\"T_bd485cfe_13d2_11e8_a5e1_681729d2fc7frow0_col4\" class=\"data row0 col4\" >-10</td> \n",
       "        <td id=\"T_bd485cfe_13d2_11e8_a5e1_681729d2fc7frow0_col5\" class=\"data row0 col5\" >-12</td> \n",
       "        <td id=\"T_bd485cfe_13d2_11e8_a5e1_681729d2fc7frow0_col6\" class=\"data row0 col6\" >-11</td> \n",
       "        <td id=\"T_bd485cfe_13d2_11e8_a5e1_681729d2fc7frow0_col7\" class=\"data row0 col7\" >-13</td> \n",
       "        <td id=\"T_bd485cfe_13d2_11e8_a5e1_681729d2fc7frow0_col8\" class=\"data row0 col8\" >-14</td> \n",
       "        <td id=\"T_bd485cfe_13d2_11e8_a5e1_681729d2fc7frow0_col9\" class=\"data row0 col9\" >-17</td> \n",
       "    </tr>    <tr> \n",
       "        <th id=\"T_bd485cfe_13d2_11e8_a5e1_681729d2fc7flevel0_row1\" class=\"row_heading level0 row1\" >максимальная температура</th> \n",
       "        <td id=\"T_bd485cfe_13d2_11e8_a5e1_681729d2fc7frow1_col0\" class=\"data row1 col0\" >+3</td> \n",
       "        <td id=\"T_bd485cfe_13d2_11e8_a5e1_681729d2fc7frow1_col1\" class=\"data row1 col1\" >+2</td> \n",
       "        <td id=\"T_bd485cfe_13d2_11e8_a5e1_681729d2fc7frow1_col2\" class=\"data row1 col2\" >+2</td> \n",
       "        <td id=\"T_bd485cfe_13d2_11e8_a5e1_681729d2fc7frow1_col3\" class=\"data row1 col3\" >0</td> \n",
       "        <td id=\"T_bd485cfe_13d2_11e8_a5e1_681729d2fc7frow1_col4\" class=\"data row1 col4\" >-5</td> \n",
       "        <td id=\"T_bd485cfe_13d2_11e8_a5e1_681729d2fc7frow1_col5\" class=\"data row1 col5\" >-6</td> \n",
       "        <td id=\"T_bd485cfe_13d2_11e8_a5e1_681729d2fc7frow1_col6\" class=\"data row1 col6\" >-6</td> \n",
       "        <td id=\"T_bd485cfe_13d2_11e8_a5e1_681729d2fc7frow1_col7\" class=\"data row1 col7\" >-1</td> \n",
       "        <td id=\"T_bd485cfe_13d2_11e8_a5e1_681729d2fc7frow1_col8\" class=\"data row1 col8\" >-8</td> \n",
       "        <td id=\"T_bd485cfe_13d2_11e8_a5e1_681729d2fc7frow1_col9\" class=\"data row1 col9\" >-10</td> \n",
       "    </tr>    <tr> \n",
       "        <th id=\"T_bd485cfe_13d2_11e8_a5e1_681729d2fc7flevel0_row2\" class=\"row_heading level0 row2\" >скорость ветра</th> \n",
       "        <td id=\"T_bd485cfe_13d2_11e8_a5e1_681729d2fc7frow2_col0\" class=\"data row2 col0\" >10</td> \n",
       "        <td id=\"T_bd485cfe_13d2_11e8_a5e1_681729d2fc7frow2_col1\" class=\"data row2 col1\" >7</td> \n",
       "        <td id=\"T_bd485cfe_13d2_11e8_a5e1_681729d2fc7frow2_col2\" class=\"data row2 col2\" >7</td> \n",
       "        <td id=\"T_bd485cfe_13d2_11e8_a5e1_681729d2fc7frow2_col3\" class=\"data row2 col3\" >9</td> \n",
       "        <td id=\"T_bd485cfe_13d2_11e8_a5e1_681729d2fc7frow2_col4\" class=\"data row2 col4\" >11</td> \n",
       "        <td id=\"T_bd485cfe_13d2_11e8_a5e1_681729d2fc7frow2_col5\" class=\"data row2 col5\" >12</td> \n",
       "        <td id=\"T_bd485cfe_13d2_11e8_a5e1_681729d2fc7frow2_col6\" class=\"data row2 col6\" >13</td> \n",
       "        <td id=\"T_bd485cfe_13d2_11e8_a5e1_681729d2fc7frow2_col7\" class=\"data row2 col7\" >13</td> \n",
       "        <td id=\"T_bd485cfe_13d2_11e8_a5e1_681729d2fc7frow2_col8\" class=\"data row2 col8\" >12</td> \n",
       "        <td id=\"T_bd485cfe_13d2_11e8_a5e1_681729d2fc7frow2_col9\" class=\"data row2 col9\" >9</td> \n",
       "    </tr>    <tr> \n",
       "        <th id=\"T_bd485cfe_13d2_11e8_a5e1_681729d2fc7flevel0_row3\" class=\"row_heading level0 row3\" >уровень осадков</th> \n",
       "        <td id=\"T_bd485cfe_13d2_11e8_a5e1_681729d2fc7frow3_col0\" class=\"data row3 col0\" >3.9</td> \n",
       "        <td id=\"T_bd485cfe_13d2_11e8_a5e1_681729d2fc7frow3_col1\" class=\"data row3 col1\" >0.9</td> \n",
       "        <td id=\"T_bd485cfe_13d2_11e8_a5e1_681729d2fc7frow3_col2\" class=\"data row3 col2\" >1.9</td> \n",
       "        <td id=\"T_bd485cfe_13d2_11e8_a5e1_681729d2fc7frow3_col3\" class=\"data row3 col3\" >0</td> \n",
       "        <td id=\"T_bd485cfe_13d2_11e8_a5e1_681729d2fc7frow3_col4\" class=\"data row3 col4\" >0.1</td> \n",
       "        <td id=\"T_bd485cfe_13d2_11e8_a5e1_681729d2fc7frow3_col5\" class=\"data row3 col5\" >0</td> \n",
       "        <td id=\"T_bd485cfe_13d2_11e8_a5e1_681729d2fc7frow3_col6\" class=\"data row3 col6\" >0</td> \n",
       "        <td id=\"T_bd485cfe_13d2_11e8_a5e1_681729d2fc7frow3_col7\" class=\"data row3 col7\" >0.6</td> \n",
       "        <td id=\"T_bd485cfe_13d2_11e8_a5e1_681729d2fc7frow3_col8\" class=\"data row3 col8\" >0</td> \n",
       "        <td id=\"T_bd485cfe_13d2_11e8_a5e1_681729d2fc7frow3_col9\" class=\"data row3 col9\" >0</td> \n",
       "    </tr></tbody> \n",
       "</table> "
      ],
      "text/plain": [
       "<pandas.io.formats.style.Styler at 0x1c1f0bc3828>"
      ]
     },
     "execution_count": 10,
     "metadata": {},
     "output_type": "execute_result"
    }
   ],
   "source": [
    "df_style"
   ]
  },
  {
   "cell_type": "markdown",
   "metadata": {},
   "source": [
    "## 2. Генератор описания прогноза погоды [4 балла]"
   ]
  },
  {
   "cell_type": "code",
   "execution_count": 11,
   "metadata": {},
   "outputs": [
    {
     "name": "stdout",
     "output_type": "stream",
     "text": [
      "Самый теплый день Калининграда настанет в субботу, 17-го числа. Воздух прогреется до 3 градусов тепла. Но уже вечером столбик термометра опустится на 5 отметок.\n",
      "А вот в понедельник, 26-го, жителям и гостям Калининграда придется померзнуть. Температура днем составит всего -10 градусов, а ночью опустится до -17 градусов.\n",
      "В субботу 17-го, воскресенье 18-го, понедельник 19-го, среду 21-го, субботу 24-го ожидаются осадки. Кроме того в среду 21-го, субботу 24-го будет ветренно. Аккуратней, порывы ветра свыше 10 метров в секунду с легкостью превратят ваш зонтик в параболическую антенну.\n",
      "\n",
      "\n",
      "Сводка:\n",
      "  в воскресенье 18-го числа по сравнению с предыдущей субботой:\n",
      "    минимальная температура с небольшими изменениями сохранится на уровне -3 градуса\n",
      "    максимальная температура с небольшими изменениями сохранится на уровне 2 градуса\n",
      "    скорость ветра значительно понизится на 3 метра в секунду до 7 метров в секунду\n",
      "    уровень осадков с небольшими изменениями сохранится на уровне 3.9 миллиметра\n",
      "\n",
      "  в понедельник 19-го числа по сравнению с предыдущим воскресеньем:\n",
      "    минимальная температура с небольшими изменениями сохранится на уровне -4 градуса\n",
      "    максимальная температура с небольшими изменениями сохранится на уровне 2 градуса\n",
      "    скорость ветра с небольшими изменениями сохранится на уровне 7 метров в секунду\n",
      "    уровень осадков с небольшими изменениями сохранится на уровне 0.9 миллиметра\n",
      "\n",
      "  в вторник 20-го числа по сравнению с предыдущим понедельником:\n",
      "    минимальная температура значительно понизится на 4 градуса до -8 градусов\n",
      "    максимальная температура снизится на 2 градуса и составит 0 градусов\n",
      "    скорость ветра вырастет на 2 метра в секунду и составит 9 метров в секунду\n",
      "    уровень осадков с небольшими изменениями сохранится на уровне 1.9 миллиметра\n",
      "\n",
      "  в среду 21-го числа по сравнению с предыдущим вторником:\n",
      "    минимальная температура снизится на 2 градуса и составит -10 градусов\n",
      "    максимальная температура значительно понизится на 5 градусов до -5 градусов\n",
      "    скорость ветра вырастет на 2 метра в секунду и составит 11 метров в секунду\n",
      "    уровень осадков с небольшими изменениями сохранится на уровне 0 миллиметра\n",
      "\n",
      "  в четверг 22-го числа по сравнению с предыдущей средой:\n",
      "    минимальная температура снизится на 2 градуса и составит -12 градусов\n",
      "    максимальная температура с небольшими изменениями сохранится на уровне -6 градусов\n",
      "    скорость ветра с небольшими изменениями сохранится на уровне 12 метров в секунду\n",
      "    уровень осадков с небольшими изменениями сохранится на уровне 0.1 миллиметра\n",
      "\n",
      "  в пятницу 23-го числа по сравнению с предыдущим четвергом:\n",
      "    минимальная температура с небольшими изменениями сохранится на уровне -11 градусов\n",
      "    максимальная температура с небольшими изменениями сохранится на уровне -6 градусов\n",
      "    скорость ветра с небольшими изменениями сохранится на уровне 13 метров в секунду\n",
      "    уровень осадков с небольшими изменениями сохранится на уровне 0 миллиметра\n",
      "\n",
      "  в субботу 24-го числа по сравнению с предыдущей пятницей:\n",
      "    минимальная температура снизится на 2 градуса и составит -13 градусов\n",
      "    максимальная температура радикально увеличится на 5 градусов и достигнет отметки в -1 градус\n",
      "    скорость ветра с небольшими изменениями сохранится на уровне 13 метров в секунду\n",
      "    уровень осадков с небольшими изменениями сохранится на уровне 0 миллиметра\n",
      "\n",
      "  в воскресенье 25-го числа по сравнению с предыдущей субботой:\n",
      "    минимальная температура с небольшими изменениями сохранится на уровне -14 градусов\n",
      "    максимальная температура значительно понизится на 7 градусов до -8 градусов\n",
      "    скорость ветра снизится на 1 метр в секунду и составит 12 метров в секунду\n",
      "    уровень осадков с небольшими изменениями сохранится на уровне 0.6 миллиметра\n",
      "\n",
      "  в понедельник 26-го числа по сравнению с предыдущим воскресеньем:\n",
      "    минимальная температура снизится на 3 градуса и составит -17 градусов\n",
      "    максимальная температура снизится на 2 градуса и составит -10 градусов\n",
      "    скорость ветра значительно понизится на 3 метра в секунду до 9 метров в секунду\n",
      "    уровень осадков с небольшими изменениями сохранится на уровне 0 миллиметра\n",
      "\n",
      "\n"
     ]
    }
   ],
   "source": [
    "import pymorphy2\n",
    "import re\n",
    "morph = pymorphy2.MorphAnalyzer()\n",
    "\n",
    "city_name = 'Калининград'\n",
    "\n",
    "def column_name_2_day_of_the_week(h):\n",
    "    short_2_full_name_map = { \n",
    "        'пн': 'понедельник', \n",
    "        'вт': 'вторник', \n",
    "        'ср': 'среда',\n",
    "        'чт':'четверг',\n",
    "        'пт':'пятница',\n",
    "        'сб': 'суббота',\n",
    "        'вс':'воскресенье'\n",
    "    }\n",
    "    return short_2_full_name_map[h[h.find(\"(\")+1:h.find(\")\")]]\n",
    "\n",
    "def column_name_2_date(h):\n",
    "    return int(re.match('[0-9]+', h).group(0))\n",
    "\n",
    "def with_capital(word):\n",
    "    return word[:1].upper()+word[1:]\n",
    "\n",
    "def value_with_units(val, units, suffix = '', tags=frozenset()):\n",
    "    if isinstance(val, int):\n",
    "        return '%i %s%s'%(val, morph.parse(units)[0].inflect(tags).make_agree_with_number(abs(val)).word, suffix)\n",
    "    if isinstance(val, float):\n",
    "        return '%g %s%s'%(val, morph.parse(units)[0].inflect(tags).inflect({'gent'}).word, suffix)\n",
    "    pass\n",
    "\n",
    "def change(prev, curr, threshold, units, suffix = ''):\n",
    "    delta = abs(curr - prev)\n",
    "    ratio = (curr - prev)/threshold\n",
    "    if ratio > 2:\n",
    "        return 'радикально увеличится на %s и достигнет отметки в %s'\\\n",
    "            %(\n",
    "                value_with_units(delta, units, suffix),\n",
    "                value_with_units(curr, units, suffix)\n",
    "            )\n",
    "    elif ratio > 1:\n",
    "        return 'вырастет на %s и составит %s'\\\n",
    "            %(\n",
    "                value_with_units(delta, units, suffix),\n",
    "                value_with_units(curr, units, suffix)\n",
    "            )\n",
    "    elif ratio > -1:\n",
    "        return 'с небольшими изменениями сохранится на уровне %s'\\\n",
    "            %(\n",
    "                value_with_units(curr, units, suffix)\n",
    "            )\n",
    "    elif ratio > -2:\n",
    "        return 'снизится на %s и составит %s'\\\n",
    "            %(\n",
    "                value_with_units(delta, units, suffix),\n",
    "                value_with_units(curr, units, suffix)\n",
    "            )\n",
    "    \n",
    "    else:\n",
    "        return 'значительно понизится на %s до %s'\\\n",
    "            %(\n",
    "                value_with_units(delta, units, suffix),\n",
    "                value_with_units(curr, units, suffix, tags={'gent'})\n",
    "            )\n",
    "\n",
    "t = ''\n",
    "\n",
    "hottest = df.iloc[1].astype(float).idxmax()\n",
    "hottest_temp = int(df.iloc[1][hottest])\n",
    "hottest_temp_night = int(df.iloc[0][hottest])\n",
    "hottest_temp_delta = hottest_temp - hottest_temp_night\n",
    "\n",
    "t += 'Самый теплый день %s настанет в %s, %i-го числа. '\\\n",
    "    %(with_capital(morph.parse(city_name)[0].inflect({'gent'}).word), \n",
    "      morph.parse(column_name_2_day_of_the_week(hottest))[0].inflect({'acc2'}).word, \n",
    "      column_name_2_date(hottest)\n",
    "     )\n",
    "t += 'Воздух прогреется до %s тепла. '%value_with_units(hottest_temp,'градус',tags={'gent'})\n",
    "t += 'Но уже вечером столбик термометра опустится на %s.\\n' % value_with_units(hottest_temp_delta,'отметка')\n",
    "     \n",
    "\n",
    "coldest = df.iloc[0].astype(float).idxmin()\n",
    "coldest_temp       = int(df.iloc[1][coldest])\n",
    "coldest_temp_night = int(df.iloc[0][coldest])\n",
    "t += 'А вот в %s, %i-го, жителям и гостям %s придется померзнуть. '\\\n",
    "    %(\n",
    "        morph.parse(column_name_2_day_of_the_week(coldest))[0].inflect({'acc2'}).word, \n",
    "        column_name_2_date(coldest),\n",
    "        with_capital(morph.parse(city_name)[0].inflect({'gent'}).word)\n",
    "    )\n",
    "t += 'Температура днем составит всего %s, а ночью опустится до %s.\\n'\\\n",
    "    %(\n",
    "        value_with_units(coldest_temp,'градус'),\n",
    "        value_with_units(coldest_temp_night,'градус',tags={'gent'}),\n",
    "    )\n",
    "    \n",
    "rain_days = df.columns[df.iloc[3].astype(float) > 0].tolist()\n",
    "strong_wind_threshold = 10\n",
    "if len(rain_days) > 0:\n",
    "    \n",
    "    t += 'В '+', '.join(['%s %i-го'%(\n",
    "            morph.parse(column_name_2_day_of_the_week(col))[0].inflect({'acc2'}).word,\n",
    "            column_name_2_date(col)\n",
    "        ) for col in rain_days])\n",
    "    t += ' ожидаются осадки.'\n",
    "    rain_and_strong_wind_days = df.columns[(df.iloc[2].astype(float) > strong_wind_threshold) & (df.iloc[3].astype(float) > 0)].tolist()\n",
    "    if len(rain_and_strong_wind_days) > 0:\n",
    "        t += ' Кроме того в ' +', '.join(['%s %i-го'%(\n",
    "            morph.parse(column_name_2_day_of_the_week(col))[0].inflect({'acc2'}).word,\n",
    "            column_name_2_date(col)\n",
    "        ) for col in rain_and_strong_wind_days])\n",
    "        t += ' будет ветренно. Аккуратней, порывы ветра свыше %s с легкостью превратят ваш зонтик в параболическую антенну.'\\\n",
    "            %(value_with_units(strong_wind_threshold,'метров',tags={'gent'}, suffix=' в секунду'))\n",
    "    t+='\\n'\n",
    "\n",
    "t += '\\n\\nСводка:\\n'\n",
    "n_columns = len(df.columns)\n",
    "for i in range(1, n_columns):\n",
    "    curr = df.columns[i]\n",
    "    prev = df.columns[i-1]\n",
    "    curr_col = df[curr]\n",
    "    prev_col = df[prev]\n",
    "    t+= '  в %s %i-го числа по сравнению с %s %s:\\n'\\\n",
    "    %(\n",
    "        morph.parse(column_name_2_day_of_the_week(curr))[0].inflect({'acc2'}).word,\n",
    "        column_name_2_date(curr),\n",
    "        morph.parse('предыдущий')[0].inflect({morph.parse(column_name_2_day_of_the_week(prev))[0].tag.gender,'ablt'}).word,\n",
    "        morph.parse(column_name_2_day_of_the_week(prev))[0].inflect({'ablt'}).word,\n",
    "    )\n",
    "    t+='    минимальная температура %s\\n' %(change(int  (prev_col[0]), int  (curr_col[0]), 2, 'градус'))\n",
    "    t+='    максимальная температура %s\\n'%(change(int  (prev_col[1]), int  (curr_col[1]), 2, 'градус'))\n",
    "    t+='    скорость ветра %s\\n'          %(change(int  (prev_col[2]), int  (curr_col[2]), 1, 'метр',' в секунду'))\n",
    "    t+='    уровень осадков %s\\n'         %(change(float(prev_col[3]), float(prev_col[3]), 1, 'миллиметр'))\n",
    "    t+='\\n'\n",
    "\n",
    "print(t)"
   ]
  },
  {
   "cell_type": "markdown",
   "metadata": {},
   "source": [
    "### 3. Ответьте на вопросы [3 балла]\n",
    "* В каких других задачах (помимо описания прогноза погоды) может понадобиться генерировать текст по шаблонам? В каких задачах может понадобиться генерировать текст об изменении числовых показателей по шаблонам?\n",
    "* Шаблоны, которые вы использовали в этом задании, имеют фиксированную структуру. Фактически, ваша задача заключалась в том, чтобы подставить в шаблон число и согласовать единицы измерения с этим числом или подставить в шаблон название города и согласовать его с предлогом. Как можно разнообразить эти шаблоны? Как знание синтаксической структуры предложения может помочь в этой задаче? "
   ]
  },
  {
   "cell_type": "markdown",
   "metadata": {},
   "source": [
    "* Генерировать текст по шаблонам может понадобиться для функционирования голосовых помощников и для составления текстового описания однотипных объектов, например, товаров. Автоматически сгенерированный текст об изменении числовых показателей нужен для составления читабельных сводок, например, для вывода результатов спортивных соревнований, информировании трейдеров о значительных изменениях на бирже за какой-срок.\n",
    "* К сожалению, функционал pymorphy2 очень ограничен. Кроме того, что он может поставить слово в явно заданную форму, заявлена только возможность согласования числа с существительным, но даже она работает криво (примеры ниже), и приходится подпирать ее своими костылями. В таких условиях очень сложно как-то разнообразить использованные шаблоны, и знание синтаксической структуры тут сильно не поможет. Идеальный морфологический анализатор, на мой взгляд, должен работать на уровне словосочетаний, и уметь приводить все слова в нужную форму самостоятельно, без явного задания формы."
   ]
  },
  {
   "cell_type": "code",
   "execution_count": 12,
   "metadata": {},
   "outputs": [
    {
     "name": "stdout",
     "output_type": "stream",
     "text": [
      "-1 градусов\n",
      "-1 градус\n"
     ]
    }
   ],
   "source": [
    "# не умеет работать с отрицательными числами, должно быть '-1 градус'\n",
    "print(str(-1) + ' ' + morph.parse('градус')[0].make_agree_with_number(-5).word)\n",
    "\n",
    "# мой вариант\n",
    "print(value_with_units(-1, 'градус'))"
   ]
  },
  {
   "cell_type": "code",
   "execution_count": 13,
   "metadata": {},
   "outputs": [
    {
     "name": "stdout",
     "output_type": "stream",
     "text": [
      "1.2 градусов\n",
      "1.2 градуса\n"
     ]
    }
   ],
   "source": [
    "# не умеет работать с дробными числами, должно быть '1.2 градусa', читается: 'одна целая две десятых градуса'\n",
    "print(str(1.2) + ' ' + morph.parse('градус')[0].make_agree_with_number(1.2).word)\n",
    "\n",
    "# мой вариант\n",
    "print(value_with_units(1.2, 'градус'))"
   ]
  },
  {
   "cell_type": "markdown",
   "metadata": {},
   "source": [
    "я не нашел способа согласовать предлог '**в**' с существительным, \n",
    "например, для '**вторник**' должно получаться '**во вторник**', но для '**вазе**' должно получиться '**в вазе**' \n"
   ]
  }
 ],
 "metadata": {
  "anaconda-cloud": {},
  "kernelspec": {
   "display_name": "Python 3",
   "language": "python",
   "name": "python3"
  },
  "language_info": {
   "codemirror_mode": {
    "name": "ipython",
    "version": 3
   },
   "file_extension": ".py",
   "mimetype": "text/x-python",
   "name": "python",
   "nbconvert_exporter": "python",
   "pygments_lexer": "ipython3",
   "version": "3.6.4"
  }
 },
 "nbformat": 4,
 "nbformat_minor": 2
}
