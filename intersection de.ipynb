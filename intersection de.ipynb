{
 "cells": [
  {
   "cell_type": "markdown",
   "metadata": {},
   "source": [
    "# Квадраты со всеми вершинами"
   ]
  },
  {
   "cell_type": "markdown",
   "metadata": {},
   "source": [
    "[смысл алгоритма понятно описан тут](http://www.cat-in-web.ru/notebook/opredelenie-peresecheniya-pryamougolnikov/)\n",
    "\n",
    "К этому нужно добавить то, что в нашем случае прямоугольники могут располагаться под углом. ПОэтому когда угол прямоугольника НЕ будет кратным 90 градусам (не параллелен осям), будем \"строить\" уравнения прямых, образующих стороны прямоугольника и использовать то же неравенство, что в простом случае.\n",
    "\n",
    "Также учтем что нужно следить за тем что такое \"выше\", \"ниже\" и тд, тк при повороте, например, на 180 верх и низ меняются местами."
   ]
  },
  {
   "cell_type": "markdown",
   "metadata": {},
   "source": [
    "nupmy это модуль для удобной работы с массивами\n",
    "\n",
    "matplotlib для графиков"
   ]
  },
  {
   "cell_type": "code",
   "execution_count": 1,
   "metadata": {},
   "outputs": [],
   "source": [
    "import numpy as np\n",
    "import pylab\n",
    "import matplotlib.path\n",
    "import matplotlib.pyplot as plt"
   ]
  },
  {
   "cell_type": "markdown",
   "metadata": {},
   "source": [
    "## Две функции ниже нужны если решать задачу с помощью переноса системы координат в прямоугольник, сейчас не используются"
   ]
  },
  {
   "cell_type": "code",
   "execution_count": 2,
   "metadata": {},
   "outputs": [],
   "source": [
    "# function to rotate a vector by a certain angle\n",
    "def rotate_vector(vec, angle, deg=False):\n",
    "    cos_angle = np.cos(angle)\n",
    "    sin_angle = np.sin(angle)\n",
    "    rotated_vector = Vector(vec.x*cos_angle - vec.y*sin_angle, vec.x*sin_angle + vec.y*cos_angle)\n",
    "    return rotated_vector"
   ]
  },
  {
   "cell_type": "code",
   "execution_count": 3,
   "metadata": {},
   "outputs": [],
   "source": [
    "# function to rotate a vector by a certain angle back\n",
    "def rotate_vector_back(vec, angle, deg=False):\n",
    "    cos_angle = np.cos(angle)\n",
    "    sin_angle = np.sin(angle)\n",
    "    rotated_vector = Vector(vec.x*cos_angle + vec.y*sin_angle, vec.x*sin_angle - vec.y*cos_angle)\n",
    "    return rotated_vector"
   ]
  },
  {
   "cell_type": "code",
   "execution_count": 4,
   "metadata": {},
   "outputs": [],
   "source": [
    "def change_coord(vertex, angle, center):\n",
    "    rot_angle = -angle#angle%(2*np.pi)\n",
    "    return rotate_vector(vertex, angle) - center"
   ]
  },
  {
   "cell_type": "markdown",
   "metadata": {},
   "source": [
    "## Это класс точки, я его добавила для удобства.\n",
    "\n",
    "Принимает координату х,у\n",
    "\n",
    "Доопределено сложение и вычитание\n",
    "\n",
    "__repr__ просто вывод"
   ]
  },
  {
   "cell_type": "code",
   "execution_count": 5,
   "metadata": {},
   "outputs": [],
   "source": [
    "class Vector:\n",
    "    def __init__(self, x, y):\n",
    "        self.x = x\n",
    "        self.y = y\n",
    "\n",
    "    # function to add two vectors\n",
    "    def __add__(self, other):\n",
    "        return Vector(self.x+other.x, self.y+other.y)\n",
    "\n",
    "    # function to subtract vectors\n",
    "    def __sub__(self, other):\n",
    "        return Vector(self.x-other.x, self.y-other.y)\n",
    "\n",
    "    # make the vector printable\n",
    "    def __repr__(self):\n",
    "        return \"(%s, %s)\" % (self.x, self.y)   "
   ]
  },
  {
   "cell_type": "markdown",
   "metadata": {},
   "source": [
    "## Класс прямоугольника (слоя) как вы его описали\n",
    "\n",
    "Ниже все будет нарисовано в привычной отраженной системе координат, на решение это не влияет.\n",
    "\n",
    "Точки B, C, D доопределяются так:\n",
    "\n",
    "Мы крутим прямоугольники вокруг фиксированной точки А(х,у), для этого надо перенести ноль в точку А, покрутить вектор, и вернуть все на место. Таким образом нам известны координаты всех 4 точек независимо от угла."
   ]
  },
  {
   "cell_type": "code",
   "execution_count": 6,
   "metadata": {},
   "outputs": [],
   "source": [
    "class Layer:\n",
    "    def __init__(self, x, y, width, height, angle):\n",
    "        self.A = Vector(x, y)\n",
    "        self.angle = angle\n",
    "        self.width = width\n",
    "        self.height = height\n",
    "        \n",
    "        # координаты в исходной системе координат\n",
    "        \n",
    "        self.B = self.A + rotate_vector(Vector(width, 0), self.angle) # Vector(self.A.x + self.width*cos, self.A.y - self.width*sin) \n",
    "        self.C = self.A + rotate_vector(Vector(width, height), self.angle) # Vector(self.A.x + self.height*cos, self.A.y - self.height*sin)\n",
    "        self.D = self.A + rotate_vector(Vector(0, height), self.angle) # Vector(self.A.x + d*cos, self.A.y - d*sin) \n",
    "         \n",
    "    def get_vertex(self):\n",
    "        return [self.A, self.B, self.C, self.D]\n",
    "            \n",
    "    def __repr__(self):\n",
    "        return \"\\nA%s\\nB%s\\nC%s\\nD%s\" % (self.A, self.B, self.C, self.D)"
   ]
  },
  {
   "cell_type": "markdown",
   "metadata": {},
   "source": [
    "## Функция чтобы все рисовать"
   ]
  },
  {
   "cell_type": "code",
   "execution_count": 7,
   "metadata": {},
   "outputs": [],
   "source": [
    "def draw_rects(rect1, rect2):\n",
    "    def set_xy(rect):\n",
    "        xy = np.array([[rect.A.x, rect.A.y], [rect.B.x, rect.B.y], [rect.C.x, rect.C.y], [rect.D.x, rect.D.y]])\n",
    "        xs = xy[:, 0]\n",
    "        ys = xy[:, 1]\n",
    "        return xy, xs, ys\n",
    "    \n",
    "    #print(rect1)\n",
    "    #print(rect2)\n",
    "    xy1, xs1, ys1 = set_xy(rect1)\n",
    "    xy2, xs2, ys2 = set_xy(rect2)\n",
    "    \n",
    "    plt.figure(figsize=(6, 6))\n",
    "    plt.scatter(xs1, ys1, s=70, color='red')\n",
    "    plt.scatter(xs2, ys2, s=70, color='blue')\n",
    "\n",
    "    r1 = plt.Polygon(xy1, color='red', fill=0)\n",
    "    r2 = plt.Polygon(xy2, color='blue', fill=0)\n",
    "    plt.gca().add_patch(r1)\n",
    "    plt.gca().add_patch(r2)\n",
    "    plt.xlim(-5, 10)\n",
    "    plt.ylim(-5, 10)\n",
    "    plt.show()        "
   ]
  },
  {
   "cell_type": "markdown",
   "metadata": {},
   "source": [
    "## Проверка"
   ]
  },
  {
   "cell_type": "markdown",
   "metadata": {},
   "source": [
    "Функция для определения какая вершина самая нижняя, самая верхняя, самая левая и самая праваяя (в обычном смысле). \n",
    "\n",
    "Зачем именно так, нарисую табличку на бумажке.\n",
    "Для циклической перестановки вершин в зависимости от угла."
   ]
  },
  {
   "cell_type": "code",
   "execution_count": 8,
   "metadata": {},
   "outputs": [],
   "source": [
    "def rotate_left(seq, n):\n",
    "    #return (seq[n-1::-1] + seq[:n-1:-1])[::-1]\n",
    "    return seq[4-n:] + seq[:4-n]"
   ]
  },
  {
   "cell_type": "markdown",
   "metadata": {},
   "source": [
    "уравнение прямой y = kx + b, можем найти k, b для каждой из сторон."
   ]
  },
  {
   "cell_type": "code",
   "execution_count": 9,
   "metadata": {},
   "outputs": [],
   "source": [
    "def make_line_by_2_points(p1, p2):\n",
    "    k = (p1.y - p2.y) / (p1.x - p2.x)\n",
    "    b = p2.y - k*p2.x\n",
    "    return k, b"
   ]
  },
  {
   "cell_type": "markdown",
   "metadata": {},
   "source": [
    "так как мы можем расположить вершины в нужном нам порядке осталось проверить условие по неравенству\n",
    "\n",
    "- rec_vertex[0] самая нижняя\n",
    "\n",
    "- rec_vertex[1] самая правая\n",
    "\n",
    "- rec_vertex[2] самая верхняя\n",
    "\n",
    "- rec_vertex[3] самая левая"
   ]
  },
  {
   "cell_type": "code",
   "execution_count": 61,
   "metadata": {},
   "outputs": [],
   "source": [
    "def check_intersection(rec1, rec2):\n",
    "  \n",
    "    rec1_vertex = rotate_left(rec1.get_vertex(), int(rec1.angle//(np.pi/2)))\n",
    "    rec2_vertex = rotate_left(rec2.get_vertex(), int(rec2.angle//(np.pi/2)))\n",
    "    \n",
    "    # rec1 который кривой\n",
    "    # rec2 который ровный\n",
    "    def compare_line_and_vertex(rec1_vertex, rec2_vertex):\n",
    "        top = make_line_by_2_points(rec1_vertex[2], rec1_vertex[3])\n",
    "        bottom = make_line_by_2_points(rec1_vertex[0], rec1_vertex[1])\n",
    "        left = make_line_by_2_points(rec1_vertex[3], rec1_vertex[0])\n",
    "        right = make_line_by_2_points(rec1_vertex[1], rec1_vertex[2])\n",
    "\n",
    "        return not (rec2_vertex[0].y > top[0]*rec2_vertex[0].x + top[1] or \n",
    "                    rec2_vertex[2].y < bottom[0]*rec2_vertex[2].x + bottom[1] or\n",
    "                    rec2_vertex[3].y > right[0]*rec2_vertex[3].x + right[1] or\n",
    "                    rec2_vertex[1].y < left[0]*rec2_vertex[1].x + left[1])\n",
    "    \n",
    "    def compare_vertex(rec1_vertex, rec2_vertex):\n",
    "        \n",
    "        return not (rec1_vertex[3].y < rec2_vertex[1].y or \n",
    "                    rec1_vertex[1].y > rec2_vertex[3].y or \n",
    "                    rec1_vertex[1].x < rec2_vertex[3].x or \n",
    "                    rec1_vertex[3].x > rec2_vertex[1].x)\n",
    "    \n",
    "\n",
    "    # сюда входят случаи нулевой разницы поэтому доп проверка ниже не нужна\n",
    "    if rec1.angle%(np.pi/2) == 0: \n",
    "        if rec2.angle%(np.pi/2) == 0:\n",
    "            print(\"\\ncase 1: both parallel\")\n",
    "            return compare_vertex(rec1_vertex, rec2_vertex)                 \n",
    "        # rec1|| rec2 no\n",
    "        print(\"\\ncase 2: first parallel, second no\")\n",
    "        return compare_line_and_vertex(rec2_vertex, rec1_vertex) #or compare_vertex(rec2_vertex, rec1_vertex))\n",
    "        \n",
    "    if rec2.angle%(np.pi/2) == 0:\n",
    "    # rec2|| rec1 no  or rec1 no rec2 no\n",
    "        print(\"\\ncase 3: second parallel, first no\")\n",
    "        return compare_line_and_vertex(rec1_vertex, rec2_vertex) #or compare_vertex(rec1_vertex, rec2_vertex))\n",
    "        \n",
    "    print(\"\\ncase 4: both not parallel\")\n",
    "    return compare_line_and_vertex(rec1_vertex, rec2_vertex)"
   ]
  },
  {
   "cell_type": "code",
   "execution_count": null,
   "metadata": {},
   "outputs": [],
   "source": []
  },
  {
   "cell_type": "markdown",
   "metadata": {},
   "source": [
    "Проверить выход за границы очень просто.\n",
    "\n",
    "Снова располагаем вершины в нужном порядке. Проверяем что самая верхняя ниже y_max самая нижняя выше 0, самая левая больше 0."
   ]
  },
  {
   "cell_type": "code",
   "execution_count": 11,
   "metadata": {},
   "outputs": [],
   "source": [
    "def check_limit(rec, y_max):\n",
    "    rec_vertex = rotate_left(rec.get_vertex(), int(rec.angle//(np.pi/2)))\n",
    "    return (rec_vertex[3].x >= 0 and \n",
    "            rec_vertex[0].y >= 0 and\n",
    "            rec_vertex[2].y < y_max)"
   ]
  },
  {
   "cell_type": "markdown",
   "metadata": {},
   "source": [
    "## Примеры"
   ]
  },
  {
   "cell_type": "code",
   "execution_count": 64,
   "metadata": {},
   "outputs": [
    {
     "data": {
      "image/png": "[encoded data removed]",
      "text/plain": [
       "<Figure size 432x432 with 1 Axes>"
      ]
     },
     "metadata": {
      "needs_background": "light"
     },
     "output_type": "display_data"
    },
    {
     "name": "stdout",
     "output_type": "stream",
     "text": [
      "\n",
      "case 1: both parallel\n"
     ]
    },
    {
     "data": {
      "text/plain": [
       "True"
      ]
     },
     "execution_count": 64,
     "metadata": {},
     "output_type": "execute_result"
    }
   ],
   "source": [
    "l1 = Layer(1, 3, 4, 2, 0)\n",
    "l2 = Layer(3, 1, 3, 5, 0)\n",
    "draw_rects(l1, l2)\n",
    "check_intersection(l1, l2)\n",
    "#пересекаются"
   ]
  },
  {
   "cell_type": "code",
   "execution_count": 65,
   "metadata": {},
   "outputs": [
    {
     "data": {
      "text/plain": [
       "False"
      ]
     },
     "execution_count": 65,
     "metadata": {},
     "output_type": "execute_result"
    }
   ],
   "source": [
    "check_limit(l6, 6)"
   ]
  },
  {
   "cell_type": "code",
   "execution_count": 66,
   "metadata": {},
   "outputs": [
    {
     "data": {
      "image/png": "[encoded data removed]",
      "text/plain": [
       "<Figure size 432x432 with 1 Axes>"
      ]
     },
     "metadata": {
      "needs_background": "light"
     },
     "output_type": "display_data"
    },
    {
     "name": "stdout",
     "output_type": "stream",
     "text": [
      "\n",
      "case 1: both parallel\n"
     ]
    },
    {
     "data": {
      "text/plain": [
       "False"
      ]
     },
     "execution_count": 66,
     "metadata": {},
     "output_type": "execute_result"
    }
   ],
   "source": [
    "l3 = Layer(1,1,4,2,0) #np.pi/2\n",
    "l4 = Layer(2,4,2,4,0)\n",
    "draw_rects(l3, l4)\n",
    "check_intersection(l3, l4)\n",
    "# не пересекаются"
   ]
  },
  {
   "cell_type": "code",
   "execution_count": 67,
   "metadata": {},
   "outputs": [
    {
     "data": {
      "image/png": "[encoded data removed]",
      "text/plain": [
       "<Figure size 432x432 with 1 Axes>"
      ]
     },
     "metadata": {
      "needs_background": "light"
     },
     "output_type": "display_data"
    },
    {
     "name": "stdout",
     "output_type": "stream",
     "text": [
      "\n",
      "case 4: both not parallel\n"
     ]
    },
    {
     "data": {
      "text/plain": [
       "True"
      ]
     },
     "execution_count": 67,
     "metadata": {},
     "output_type": "execute_result"
    }
   ],
   "source": [
    "l5 = Layer(1,1,4,2, 3*np.pi/4) #np.pi/2\n",
    "l6 = Layer(2,4,2,4, 3*np.pi/4)\n",
    "draw_rects(l5, l6)\n",
    "check_intersection(l5, l6)\n",
    "#пересекаются"
   ]
  },
  {
   "cell_type": "code",
   "execution_count": 68,
   "metadata": {},
   "outputs": [
    {
     "data": {
      "image/png": "[encoded data removed]",
      "text/plain": [
       "<Figure size 432x432 with 1 Axes>"
      ]
     },
     "metadata": {
      "needs_background": "light"
     },
     "output_type": "display_data"
    },
    {
     "name": "stdout",
     "output_type": "stream",
     "text": [
      "\n",
      "case 1: both parallel\n"
     ]
    },
    {
     "data": {
      "text/plain": [
       "False"
      ]
     },
     "execution_count": 68,
     "metadata": {},
     "output_type": "execute_result"
    }
   ],
   "source": [
    "l7 = Layer(1, 3, 4, 2, np.pi/2)\n",
    "l8 = Layer(3, 1, 3, 5, 0)\n",
    "draw_rects(l7, l8)\n",
    "check_intersection(l7, l8)\n",
    "# не пересекаются"
   ]
  },
  {
   "cell_type": "code",
   "execution_count": 69,
   "metadata": {},
   "outputs": [
    {
     "data": {
      "image/png": "[encoded data removed]",
      "text/plain": [
       "<Figure size 432x432 with 1 Axes>"
      ]
     },
     "metadata": {
      "needs_background": "light"
     },
     "output_type": "display_data"
    },
    {
     "name": "stdout",
     "output_type": "stream",
     "text": [
      "\n",
      "case 1: both parallel\n"
     ]
    },
    {
     "data": {
      "text/plain": [
       "True"
      ]
     },
     "execution_count": 69,
     "metadata": {},
     "output_type": "execute_result"
    }
   ],
   "source": [
    "l9 = Layer(0, 2, 6, 5, 0)\n",
    "draw_rects(l1, l9)\n",
    "check_intersection(l1, l9)\n",
    "# пересекаются"
   ]
  },
  {
   "cell_type": "code",
   "execution_count": 70,
   "metadata": {},
   "outputs": [
    {
     "data": {
      "image/png": "[encoded data removed]",
      "text/plain": [
       "<Figure size 432x432 with 1 Axes>"
      ]
     },
     "metadata": {
      "needs_background": "light"
     },
     "output_type": "display_data"
    },
    {
     "name": "stdout",
     "output_type": "stream",
     "text": [
      "\n",
      "case 1: both parallel\n"
     ]
    },
    {
     "data": {
      "text/plain": [
       "False"
      ]
     },
     "execution_count": 70,
     "metadata": {},
     "output_type": "execute_result"
    }
   ],
   "source": [
    "l10 = Layer(0, 2, 6, 5, np.pi)\n",
    "draw_rects(l10, l9)\n",
    "check_intersection(l10, l9)\n",
    "# не пересекаются???"
   ]
  },
  {
   "cell_type": "code",
   "execution_count": 71,
   "metadata": {},
   "outputs": [
    {
     "data": {
      "image/png": "[encoded data removed]",
      "text/plain": [
       "<Figure size 432x432 with 1 Axes>"
      ]
     },
     "metadata": {
      "needs_background": "light"
     },
     "output_type": "display_data"
    },
    {
     "name": "stdout",
     "output_type": "stream",
     "text": [
      "\n",
      "case 1: both parallel\n"
     ]
    },
    {
     "data": {
      "text/plain": [
       "True"
      ]
     },
     "execution_count": 71,
     "metadata": {},
     "output_type": "execute_result"
    }
   ],
   "source": [
    "l11 = Layer(4, 1, 4, 3, 0)\n",
    "draw_rects(l9, l11)\n",
    "check_intersection(l9, l11)\n",
    "# пересекаются"
   ]
  },
  {
   "cell_type": "code",
   "execution_count": 72,
   "metadata": {},
   "outputs": [
    {
     "data": {
      "image/png": "[encoded data removed]",
      "text/plain": [
       "<Figure size 432x432 with 1 Axes>"
      ]
     },
     "metadata": {
      "needs_background": "light"
     },
     "output_type": "display_data"
    },
    {
     "name": "stdout",
     "output_type": "stream",
     "text": [
      "\n",
      "case 1: both parallel\n"
     ]
    },
    {
     "data": {
      "text/plain": [
       "True"
      ]
     },
     "execution_count": 72,
     "metadata": {},
     "output_type": "execute_result"
    }
   ],
   "source": [
    "l12 = Layer(1, 3, 8, 2, 0)\n",
    "draw_rects(l12, l2)\n",
    "check_intersection(l12, l2)\n",
    "#пересекаются"
   ]
  },
  {
   "cell_type": "code",
   "execution_count": 73,
   "metadata": {},
   "outputs": [
    {
     "data": {
      "image/png": "[encoded data removed]",
      "text/plain": [
       "<Figure size 432x432 with 1 Axes>"
      ]
     },
     "metadata": {
      "needs_background": "light"
     },
     "output_type": "display_data"
    },
    {
     "name": "stdout",
     "output_type": "stream",
     "text": [
      "\n",
      "case 1: both parallel\n"
     ]
    },
    {
     "data": {
      "text/plain": [
       "False"
      ]
     },
     "execution_count": 73,
     "metadata": {},
     "output_type": "execute_result"
    }
   ],
   "source": [
    "l13 = Layer(0, 0, 2, 2, 0)\n",
    "l14 = Layer(3, 0, 2, 2, 0)\n",
    "draw_rects(l13, l14)\n",
    "check_intersection(l13, l14)\n",
    "# не пересекаются"
   ]
  },
  {
   "cell_type": "code",
   "execution_count": 74,
   "metadata": {},
   "outputs": [],
   "source": [
    "def check(x1, y1, w1, h1, a1, x2, y2, w2, h2, a2):\n",
    "    l1 = Layer(x1, y1, w1, h1, a1)\n",
    "    l2 = Layer(x2, y2, w2, h2, a2)\n",
    "    draw_rects(l1, l2)\n",
    "    print(check_intersection(l1, l2))"
   ]
  },
  {
   "cell_type": "code",
   "execution_count": 75,
   "metadata": {},
   "outputs": [
    {
     "data": {
      "image/png": "[encoded data removed]",
      "text/plain": [
       "<Figure size 432x432 with 1 Axes>"
      ]
     },
     "metadata": {
      "needs_background": "light"
     },
     "output_type": "display_data"
    },
    {
     "name": "stdout",
     "output_type": "stream",
     "text": [
      "\n",
      "case 4: both not parallel\n",
      "False\n"
     ]
    }
   ],
   "source": [
    "check(0, 0, 2, 2, np.pi/4, 3, 0, 2, 2, np.pi/4)"
   ]
  },
  {
   "cell_type": "code",
   "execution_count": 76,
   "metadata": {},
   "outputs": [
    {
     "data": {
      "image/png": "[encoded data removed]",
      "text/plain": [
       "<Figure size 432x432 with 1 Axes>"
      ]
     },
     "metadata": {
      "needs_background": "light"
     },
     "output_type": "display_data"
    },
    {
     "name": "stdout",
     "output_type": "stream",
     "text": [
      "\n",
      "case 3: second parallel, first no\n",
      "False\n"
     ]
    }
   ],
   "source": [
    "check(0, 0, 2, 2, np.pi/4, 3, 0, 2, 2, 0)"
   ]
  },
  {
   "cell_type": "markdown",
   "metadata": {},
   "source": [
    "## ЕТО РАБОТАЕТ НЕПРАВИЛЬНО"
   ]
  },
  {
   "cell_type": "code",
   "execution_count": 77,
   "metadata": {},
   "outputs": [
    {
     "data": {
      "image/png": "[encoded data removed]",
      "text/plain": [
       "<Figure size 432x432 with 1 Axes>"
      ]
     },
     "metadata": {
      "needs_background": "light"
     },
     "output_type": "display_data"
    },
    {
     "name": "stdout",
     "output_type": "stream",
     "text": [
      "\n",
      "case 2: first parallel, second no\n",
      "False\n"
     ]
    }
   ],
   "source": [
    "check(0, 0, 2, 2, 0, 3, 0, 2, 2, np.pi/4)"
   ]
  },
  {
   "cell_type": "code",
   "execution_count": 78,
   "metadata": {},
   "outputs": [
    {
     "data": {
      "image/png": "[encoded data removed]",
      "text/plain": [
       "<Figure size 432x432 with 1 Axes>"
      ]
     },
     "metadata": {
      "needs_background": "light"
     },
     "output_type": "display_data"
    },
    {
     "name": "stdout",
     "output_type": "stream",
     "text": [
      "\n",
      "case 4: both not parallel\n",
      "True\n"
     ]
    }
   ],
   "source": [
    "check(3, 2, 10,10, 3*np.pi/4, 3, 3, 1, 1, 5*np.pi/4)"
   ]
  },
  {
   "cell_type": "code",
   "execution_count": 79,
   "metadata": {},
   "outputs": [
    {
     "data": {
      "image/png": "[encoded data removed]",
      "text/plain": [
       "<Figure size 432x432 with 1 Axes>"
      ]
     },
     "metadata": {
      "needs_background": "light"
     },
     "output_type": "display_data"
    },
    {
     "name": "stdout",
     "output_type": "stream",
     "text": [
      "\n",
      "case 4: both not parallel\n",
      "True\n"
     ]
    }
   ],
   "source": [
    "check(2, 2, 10,10, np.pi/4, 3, 3, 1, 1, np.pi/4)"
   ]
  },
  {
   "cell_type": "code",
   "execution_count": 80,
   "metadata": {},
   "outputs": [
    {
     "data": {
      "image/png": "[encoded data removed]",
      "text/plain": [
       "<Figure size 432x432 with 1 Axes>"
      ]
     },
     "metadata": {
      "needs_background": "light"
     },
     "output_type": "display_data"
    },
    {
     "name": "stdout",
     "output_type": "stream",
     "text": [
      "\n",
      "case 3: second parallel, first no\n"
     ]
    },
    {
     "data": {
      "text/plain": [
       "False"
      ]
     },
     "execution_count": 80,
     "metadata": {},
     "output_type": "execute_result"
    }
   ],
   "source": [
    "l16 = Layer(-3, 0, 1, 1, 0)\n",
    "draw_rects(l5, l16)\n",
    "check_intersection(l5, l16)\n",
    "#не пересекаются"
   ]
  },
  {
   "cell_type": "markdown",
   "metadata": {},
   "source": [
    "## Черновик"
   ]
  },
  {
   "cell_type": "markdown",
   "metadata": {},
   "source": [
    "def check_intersection(rec1, rec2):\n",
    "  \n",
    "    rec1_vertex = rotate_left(rec1.get_vertex(), int(rec1.angle//(np.pi/2)))\n",
    "    rec2_vertex = rotate_left(rec2.get_vertex(), int(rec2.angle//(np.pi/2)))\n",
    "    \n",
    "    #print(rec1_vertex)\n",
    "    #print(rec2_vertex)\n",
    "    def compare_vertex(rec1_vertex, rec2_vertex):\n",
    "        return not (rec1_vertex[3].y < rec2_vertex[1].y or \n",
    "                    rec1_vertex[1].y > rec2_vertex[3].y or \n",
    "                    rec1_vertex[1].x < rec2_vertex[3].x or \n",
    "                    rec1_vertex[3].x > rec2_vertex[1].x)\n",
    "    \n",
    "    # сюда входят случаи нулевой разницы поэтому доп проверка ниже не нужна\n",
    "    if rec1.angle%(np.pi/2) == 0 or rec2.angle%(np.pi/2) == 0:\n",
    "        return not (rec1_vertex[3].y < rec2_vertex[1].y or \n",
    "                    rec1_vertex[1].y > rec2_vertex[3].y or \n",
    "                    rec1_vertex[1].x < rec2_vertex[3].x or \n",
    "                    rec1_vertex[3].x > rec2_vertex[1].x)\n",
    "     \n",
    "    else:\n",
    "        top = make_line_by_2_points(rec1_vertex[2], rec1_vertex[3])\n",
    "        bottom = make_line_by_2_points(rec1_vertex[0], rec1_vertex[1])\n",
    "        left = make_line_by_2_points(rec1_vertex[3], rec1_vertex[0])\n",
    "        right = make_line_by_2_points(rec1_vertex[1], rec1_vertex[2])\n",
    "        \n",
    "        # проверка по условию\n",
    "        \n",
    "        return not (rec2_vertex[0].y > top[0]*rec2_vertex[0].x + top[1] or \n",
    "                    rec2_vertex[2].y < bottom[0]*rec2_vertex[2].x + bottom[1] or\n",
    "                    rec2_vertex[3].y > right[0]*rec2_vertex[3].x + right[1] or\n",
    "                    rec2_vertex[1].y < left[0]*rec2_vertex[1].x + left[1])"
   ]
  },
  {
   "cell_type": "code",
   "execution_count": 20,
   "metadata": {},
   "outputs": [],
   "source": [
    "import itertools\n",
    "import pylab\n",
    "import matplotlib.path\n",
    "import matplotlib.pyplot as plt\n",
    "import numpy as np\n",
    "import math\n",
    "from pprint import pprint\n",
    "from itertools import permutations\n",
    "\n",
    "class Layer:\n",
    "    def __init__(self, x, y, width, height):\n",
    "        self.x = x\n",
    "        self.y = y\n",
    "        self.width = width\n",
    "        self.height = height\n",
    "        \n",
    "        self.diagonal_x = x + width\n",
    "        self.diagonal_y = y + height\n",
    "        \n",
    "    def __repr__(self):\n",
    "        return \"(x, y): (%s, %s);\\n(x1, y1): (%s, %s)\" % (self.x, self.y, self.diagonal_x, self.diagonal_y)\n",
    "    \n",
    "    #work for stright \n",
    "\n",
    "def check_intersection(rec1, rec2):\n",
    "    return not (rec1.y < rec2.diagonal_y or rec1.diagonal_y > rec2.y or rec1.diagonal_x < rec2.x or rec1.x > rec2.diagonal_x)\n",
    "\n",
    "l1 = Layer(1, 5, 4, -2)\n",
    "l2 = Layer(3, 6, 3, -5)\n",
    "\n",
    "l3 = Layer(1,3,4,-2)\n",
    "l4 = Layer(2,8,2,-4)\n",
    "\n",
    "\n",
    "class Layer:\n",
    "    def __init__(self, x, y, width, height, angle):\n",
    "        self.Ax = x\n",
    "        self.Ay = y\n",
    "        self.angle = angle\n",
    "        self.width = width\n",
    "        self.height = height\n",
    "        \n",
    "        #diagonal_x = x + width\n",
    "        #diagonal_y = y + height\n",
    "        \n",
    "        \n",
    "        cos = np.cos(angle)\n",
    "        \n",
    "        self.Bx = self.Ax + width*np.cos(angle)\n",
    "        self.By = self.Ay - width*np.sin(angle)\n",
    "        self.Dx = \n",
    "        self.Dy = \n",
    "        \n",
    "    def __repr__(self):\n",
    "        return \"(x, y): (%s, %s);\\n(x1, y1): (%s, %s)\" % (self.x, self.y, self.diagonal_x, self.diagonal_y)\n",
    "    \n",
    "    \n",
    "  #A1 = Vector(0,0)\n",
    "        #B1 = Vector(rec1.width, 0)\n",
    "        #C1 = Vector(rec1.width, rec1.height)\n",
    "        #D1 = Vector(0, rec1.height)\n",
    "        \n",
    "        #A2 = change_coord(rec2.A, rec1.angle, rec1.A)\n",
    "        #B2 = change_coord(rec2.B, rec1.angle, rec1.A)\n",
    "        #C2 = change_coord(rec2.C, rec1.angle, rec1.A)\n",
    "        #D2 = change_coord(rec2.D, rec1.angle, rec1.A)\n",
    "        \n",
    "        \n",
    "         #plt.scatter([A1.x, B1.x, C1.x, D1.x], [A1.y, B1.y, C1.y, D1.y], s=70, color='red')\n",
    "        #plt.scatter([A2.x, B2.x, C2.x, D2.x], [A2.y, B2.y, C2.y, D2.y], s=70, color='blue')\n",
    "        \n",
    "        #return not (A1.y < C2.y or C1.y > A2.y or C1.x < A2.x or A1.x > C2.x)\n",
    "        \n",
    "        \n",
    " if rec1.angle%(np.pi/2) == 0 and rec2.angle%(np.pi/2) == 0:\n",
    "        return not (rec1.A.y < rec2.C.y or rec1.C.y > rec2.A.y or rec1.C.x < rec2.A.x or rec1.A.x > rec2.C.x)"
   ]
  },
  {
   "cell_type": "code",
   "execution_count": null,
   "metadata": {},
   "outputs": [],
   "source": [
    " print(\"LALALALAL\")\n",
    "        # проверка по условию\n",
    "        print(rec2_vertex[0].y > top[0]*rec2_vertex[0].x + top[1])\n",
    "        print(rec2_vertex[2].y < bottom[0]*rec2_vertex[2].x + bottom[1])\n",
    "        print(rec2_vertex[3].y > right[0]*rec2_vertex[3].x + right[1])\n",
    "        print(rec2_vertex[1].y < left[0]*rec2_vertex[1].x + left[1])\n",
    "        \n",
    "        print(\"\\n\\nvertex y\", rec2_vertex[1].y)\n",
    "        print(\"left\", left)\n",
    "        print(\"rec2_vertex[1].x\", rec2_vertex[1].x)\n",
    "        print(\"left[0]*rec2_vertex[1].x + left[1]\", left[0]*rec2_vertex[1].x + left[1], \"\\n\\n\")"
   ]
  },
  {
   "cell_type": "code",
   "execution_count": null,
   "metadata": {},
   "outputs": [],
   "source": [
    "print(rec1_vertex[3].y < rec2_vertex[1].y)\n",
    "        print(rec1_vertex[1].y > rec2_vertex[3].y)\n",
    "        print(rec1_vertex[1].x < rec2_vertex[3].x)\n",
    "        print(rec1_vertex[3].x > rec2_vertex[1].x)"
   ]
  },
  {
   "cell_type": "code",
   "execution_count": null,
   "metadata": {},
   "outputs": [],
   "source": [
    "print(\"\\ncase 3: second parallel, first no\")\n",
    "        print(\"rec1 not\", rec1)\n",
    "        \n",
    "        print(\"line cond\", compare_line_and_vertex(rec1_vertex, rec2_vertex))\n",
    "        print(\"vert cond\", compare_vertex(rec1_vertex, rec2_vertex))"
   ]
  },
  {
   "cell_type": "code",
   "execution_count": null,
   "metadata": {},
   "outputs": [],
   "source": [
    "#print(\"rec2 not\", rec2)\n",
    "        \n",
    "        print(\"line cond\", compare_line_and_vertex(rec2_vertex, rec1_vertex))\n",
    "        print(\"vert cond\", compare_vertex(rec2_vertex, rec1_vertex))"
   ]
  },
  {
   "cell_type": "code",
   "execution_count": null,
   "metadata": {},
   "outputs": [],
   "source": [
    " #return not (rec1_vertex[3].y < rec2_vertex[1].y or \n",
    "                        #rec1_vertex[1].y > rec2_vertex[3].y or \n",
    "                        #rec1_vertex[1].x < rec2_vertex[3].x or \n",
    "                        #rec1_vertex[3].x > rec2_vertex[1].x)"
   ]
  }
 ],
 "metadata": {
  "kernelspec": {
   "display_name": "Python 3",
   "language": "python",
   "name": "python3"
  },
  "language_info": {
   "codemirror_mode": {
    "name": "ipython",
    "version": 3
   },
   "file_extension": ".py",
   "mimetype": "text/x-python",
   "name": "python",
   "nbconvert_exporter": "python",
   "pygments_lexer": "ipython3",
   "version": "3.7.0"
  }
 },
 "nbformat": 4,
 "nbformat_minor": 2
}
